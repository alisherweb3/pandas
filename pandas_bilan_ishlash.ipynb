{
 "cells": [
  {
   "cell_type": "code",
   "execution_count": 15,
   "metadata": {},
   "outputs": [],
   "source": [
    "import warnings\n",
    "warnings.filterwarnings(\"ignore\")"
   ]
  },
  {
   "cell_type": "markdown",
   "metadata": {},
   "source": [
    "Pandas Asoslari"
   ]
  },
  {
   "attachments": {},
   "cell_type": "markdown",
   "metadata": {},
   "source": [
    "pandas modulini import qilamiz"
   ]
  },
  {
   "cell_type": "code",
   "execution_count": 14,
   "metadata": {},
   "outputs": [],
   "source": [
    "import pandas as pd"
   ]
  },
  {
   "cell_type": "markdown",
   "metadata": {},
   "source": [
    "csv fayldan table ni yuklab olamiz."
   ]
  },
  {
   "cell_type": "code",
   "execution_count": 9,
   "metadata": {},
   "outputs": [],
   "source": [
    "import pandas as pd\n",
    "\n",
    "data = pd.read_csv(\"D:\\ARK_INNOVATION_ETF_ARKK_HOLDINGS.csv\")"
   ]
  },
  {
   "cell_type": "code",
   "execution_count": 11,
   "metadata": {},
   "outputs": [
    {
     "data": {
      "text/html": [
       "<div>\n",
       "<style scoped>\n",
       "    .dataframe tbody tr th:only-of-type {\n",
       "        vertical-align: middle;\n",
       "    }\n",
       "\n",
       "    .dataframe tbody tr th {\n",
       "        vertical-align: top;\n",
       "    }\n",
       "\n",
       "    .dataframe thead th {\n",
       "        text-align: right;\n",
       "    }\n",
       "</style>\n",
       "<table border=\"1\" class=\"dataframe\">\n",
       "  <thead>\n",
       "    <tr style=\"text-align: right;\">\n",
       "      <th></th>\n",
       "      <th>date</th>\n",
       "      <th>fund</th>\n",
       "      <th>company</th>\n",
       "      <th>ticker</th>\n",
       "      <th>cusip</th>\n",
       "      <th>shares</th>\n",
       "      <th>market value ($)</th>\n",
       "      <th>weight (%)</th>\n",
       "    </tr>\n",
       "  </thead>\n",
       "  <tbody>\n",
       "    <tr>\n",
       "      <th>0</th>\n",
       "      <td>12/28/2022</td>\n",
       "      <td>ARKK</td>\n",
       "      <td>ZOOM VIDEO COMMUNICATIONS-A</td>\n",
       "      <td>ZM</td>\n",
       "      <td>98980L101</td>\n",
       "      <td>8,481,643</td>\n",
       "      <td>$555,208,350.78</td>\n",
       "      <td>9.62%</td>\n",
       "    </tr>\n",
       "    <tr>\n",
       "      <th>1</th>\n",
       "      <td>12/28/2022</td>\n",
       "      <td>ARKK</td>\n",
       "      <td>EXACT SCIENCES CORP</td>\n",
       "      <td>EXAS</td>\n",
       "      <td>30063P105</td>\n",
       "      <td>10,473,976</td>\n",
       "      <td>$515,110,139.68</td>\n",
       "      <td>8.92%</td>\n",
       "    </tr>\n",
       "    <tr>\n",
       "      <th>2</th>\n",
       "      <td>12/28/2022</td>\n",
       "      <td>ARKK</td>\n",
       "      <td>ROKU INC</td>\n",
       "      <td>ROKU</td>\n",
       "      <td>77543R102</td>\n",
       "      <td>9,244,681</td>\n",
       "      <td>$362,668,835.63</td>\n",
       "      <td>6.28%</td>\n",
       "    </tr>\n",
       "    <tr>\n",
       "      <th>3</th>\n",
       "      <td>12/28/2022</td>\n",
       "      <td>ARKK</td>\n",
       "      <td>BLOCK INC</td>\n",
       "      <td>SQ</td>\n",
       "      <td>852234103</td>\n",
       "      <td>5,937,644</td>\n",
       "      <td>$355,427,369.84</td>\n",
       "      <td>6.16%</td>\n",
       "    </tr>\n",
       "    <tr>\n",
       "      <th>4</th>\n",
       "      <td>12/28/2022</td>\n",
       "      <td>ARKK</td>\n",
       "      <td>TESLA INC</td>\n",
       "      <td>TSLA</td>\n",
       "      <td>88160R101</td>\n",
       "      <td>3,172,220</td>\n",
       "      <td>$346,089,202.00</td>\n",
       "      <td>6.00%</td>\n",
       "    </tr>\n",
       "  </tbody>\n",
       "</table>\n",
       "</div>"
      ],
      "text/plain": [
       "         date  fund                      company ticker      cusip  \\\n",
       "0  12/28/2022  ARKK  ZOOM VIDEO COMMUNICATIONS-A     ZM  98980L101   \n",
       "1  12/28/2022  ARKK          EXACT SCIENCES CORP   EXAS  30063P105   \n",
       "2  12/28/2022  ARKK                     ROKU INC   ROKU  77543R102   \n",
       "3  12/28/2022  ARKK                    BLOCK INC     SQ  852234103   \n",
       "4  12/28/2022  ARKK                    TESLA INC   TSLA  88160R101   \n",
       "\n",
       "       shares market value ($) weight (%)  \n",
       "0   8,481,643  $555,208,350.78      9.62%  \n",
       "1  10,473,976  $515,110,139.68      8.92%  \n",
       "2   9,244,681  $362,668,835.63      6.28%  \n",
       "3   5,937,644  $355,427,369.84      6.16%  \n",
       "4   3,172,220  $346,089,202.00      6.00%  "
      ]
     },
     "execution_count": 11,
     "metadata": {},
     "output_type": "execute_result"
    }
   ],
   "source": [
    "data.head()"
   ]
  },
  {
   "cell_type": "code",
   "execution_count": 27,
   "metadata": {},
   "outputs": [
    {
     "ename": "TypeError",
     "evalue": "'method' object is not subscriptable",
     "output_type": "error",
     "traceback": [
      "\u001b[1;31m---------------------------------------------------------------------------\u001b[0m",
      "\u001b[1;31mTypeError\u001b[0m                                 Traceback (most recent call last)",
      "\u001b[1;32mc:\\Users\\Alisher\\futurism\\pandas_bilan_ishlash.ipynb Ячейка 8\u001b[0m in \u001b[0;36m<cell line: 1>\u001b[1;34m()\u001b[0m\n\u001b[1;32m----> <a href='vscode-notebook-cell:/c%3A/Users/Alisher/futurism/pandas_bilan_ishlash.ipynb#X11sZmlsZQ%3D%3D?line=0'>1</a>\u001b[0m data\u001b[39m.\u001b[39;49mhead[\u001b[39m'\u001b[39;49m\u001b[39mfund\u001b[39;49m\u001b[39m'\u001b[39;49m]\n",
      "\u001b[1;31mTypeError\u001b[0m: 'method' object is not subscriptable"
     ]
    }
   ],
   "source": [
    "data.head['fund']"
   ]
  }
 ],
 "metadata": {
  "kernelspec": {
   "display_name": "Python 3",
   "language": "python",
   "name": "python3"
  },
  "language_info": {
   "codemirror_mode": {
    "name": "ipython",
    "version": 3
   },
   "file_extension": ".py",
   "mimetype": "text/x-python",
   "name": "python",
   "nbconvert_exporter": "python",
   "pygments_lexer": "ipython3",
   "version": "3.10.9"
  },
  "orig_nbformat": 4,
  "vscode": {
   "interpreter": {
    "hash": "7e5d51bd976574a54fdfadbfee27285ce4e3ff6487fabea68d4daed1f294bd54"
   }
  }
 },
 "nbformat": 4,
 "nbformat_minor": 2
}
